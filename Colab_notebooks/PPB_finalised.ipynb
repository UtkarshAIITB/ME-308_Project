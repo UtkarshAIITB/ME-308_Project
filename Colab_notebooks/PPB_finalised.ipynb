{
  "nbformat": 4,
  "nbformat_minor": 0,
  "metadata": {
    "colab": {
      "provenance": []
    },
    "kernelspec": {
      "name": "python3",
      "display_name": "Python 3"
    },
    "language_info": {
      "name": "python"
    }
  },
  "cells": [
    {
      "cell_type": "code",
      "execution_count": null,
      "metadata": {
        "id": "jLsgS0xJuQV5"
      },
      "outputs": [],
      "source": [
        "import numpy as np"
      ]
    },
    {
      "cell_type": "code",
      "source": [
        "demand = [417, 308, 313, 644, 445, 427, 460, 305, 783, 295, 415, 538]\n",
        "setup_cost = [1300, 1300, 1300, 1500, 1300, 1300, 1300, 1300, 800, 1200, 1300, 1300]\n",
        "holding_cost = 10 #per month per tshirt\n",
        "holding_costpw = holding_cost/4  #per week"
      ],
      "metadata": {
        "id": "LEyJuBzwuQ4P"
      },
      "execution_count": null,
      "outputs": []
    },
    {
      "cell_type": "code",
      "source": [
        "demand_pw = []\n",
        "for item in demand:\n",
        "  value = int(item/4)\n",
        "  demand_pw.append(value)\n",
        "  demand_pw.append(value)\n",
        "  demand_pw.append(value)\n",
        "  demand_pw.append(value)"
      ],
      "metadata": {
        "id": "d-XiyUteuQ7P"
      },
      "execution_count": null,
      "outputs": []
    },
    {
      "cell_type": "code",
      "source": [
        "setup_costpw = []\n",
        "for cost in setup_cost:\n",
        "  setup_costpw.append(cost)\n",
        "  setup_costpw.append(cost)\n",
        "  setup_costpw.append(cost)\n",
        "  setup_costpw.append(cost) "
      ],
      "metadata": {
        "id": "_IcokewGxPJ7"
      },
      "execution_count": null,
      "outputs": []
    },
    {
      "cell_type": "code",
      "source": [
        "setup_costpw"
      ],
      "metadata": {
        "colab": {
          "base_uri": "https://localhost:8080/"
        },
        "id": "5g0t3I1q0P05",
        "outputId": "3fe3ff2a-a41c-4865-a12f-2eab088c54fe"
      },
      "execution_count": null,
      "outputs": [
        {
          "output_type": "execute_result",
          "data": {
            "text/plain": [
              "[1300,\n",
              " 1300,\n",
              " 1300,\n",
              " 1300,\n",
              " 1300,\n",
              " 1300,\n",
              " 1300,\n",
              " 1300,\n",
              " 1300,\n",
              " 1300,\n",
              " 1300,\n",
              " 1300,\n",
              " 1500,\n",
              " 1500,\n",
              " 1500,\n",
              " 1500,\n",
              " 1300,\n",
              " 1300,\n",
              " 1300,\n",
              " 1300,\n",
              " 1300,\n",
              " 1300,\n",
              " 1300,\n",
              " 1300,\n",
              " 1300,\n",
              " 1300,\n",
              " 1300,\n",
              " 1300,\n",
              " 1300,\n",
              " 1300,\n",
              " 1300,\n",
              " 1300,\n",
              " 800,\n",
              " 800,\n",
              " 800,\n",
              " 800,\n",
              " 1200,\n",
              " 1200,\n",
              " 1200,\n",
              " 1200,\n",
              " 1300,\n",
              " 1300,\n",
              " 1300,\n",
              " 1300,\n",
              " 1300,\n",
              " 1300,\n",
              " 1300,\n",
              " 1300]"
            ]
          },
          "metadata": {},
          "execution_count": 5
        }
      ]
    },
    {
      "cell_type": "code",
      "source": [
        "demand_pw"
      ],
      "metadata": {
        "colab": {
          "base_uri": "https://localhost:8080/"
        },
        "id": "axaZUe7QuRD-",
        "outputId": "278aca86-1183-4e41-e69e-6c73e1de0301"
      },
      "execution_count": null,
      "outputs": [
        {
          "output_type": "execute_result",
          "data": {
            "text/plain": [
              "[104,\n",
              " 104,\n",
              " 104,\n",
              " 104,\n",
              " 77,\n",
              " 77,\n",
              " 77,\n",
              " 77,\n",
              " 78,\n",
              " 78,\n",
              " 78,\n",
              " 78,\n",
              " 161,\n",
              " 161,\n",
              " 161,\n",
              " 161,\n",
              " 111,\n",
              " 111,\n",
              " 111,\n",
              " 111,\n",
              " 106,\n",
              " 106,\n",
              " 106,\n",
              " 106,\n",
              " 115,\n",
              " 115,\n",
              " 115,\n",
              " 115,\n",
              " 76,\n",
              " 76,\n",
              " 76,\n",
              " 76,\n",
              " 195,\n",
              " 195,\n",
              " 195,\n",
              " 195,\n",
              " 73,\n",
              " 73,\n",
              " 73,\n",
              " 73,\n",
              " 103,\n",
              " 103,\n",
              " 103,\n",
              " 103,\n",
              " 134,\n",
              " 134,\n",
              " 134,\n",
              " 134]"
            ]
          },
          "metadata": {},
          "execution_count": 6
        }
      ]
    },
    {
      "cell_type": "code",
      "source": [
        "length = len(demand_pw)\n",
        "j=0\n",
        "i=0\n",
        "k=0\n",
        "curr_sum =0\n",
        "lots = []\n",
        "curr_lot=[]\n",
        "disect=[]\n",
        "prev_diff = 1e6\n",
        "setup_cost_f = setup_costpw[0]\n",
        "while(j<length):\n",
        "  holding_cost = 10 #per month\n",
        "  holding_costpw = holding_cost/4  #per week\n",
        "  curr_sum+=demand_pw[j]*i\n",
        "  if sum(curr_lot)>300:\n",
        "      holding_costpw=holding_costpw*0.7                     #30% Discount\n",
        "  if sum(curr_lot)>400:\n",
        "      holding_costpw=holding_costpw*0.6                     #40% Discount\n",
        "  if sum(curr_lot)>500:\n",
        "      holding_costpw=holding_costpw*0.5                     #50% Discount\n",
        "  EPP = setup_cost_f/holding_costpw\n",
        "  # print (EPP)\n",
        "  diff = abs(EPP-curr_sum)\n",
        "  i+=1\n",
        "  j+=1\n",
        "  if(diff > prev_diff):\n",
        "    disect.append(i-1)\n",
        "    lots.append(curr_lot)\n",
        "    curr_lot=[]\n",
        "    j-=1\n",
        "    i=0\n",
        "    curr_sum=0\n",
        "    prev_diff = 1e6\n",
        "    setup_cost_f = setup_costpw[j]\n",
        "  else:\n",
        "    curr_lot.append(demand_pw[j-1])\n",
        "    prev_diff = diff\n",
        "  \n",
        "  \n",
        "\n",
        "print(\"Lots:\",lots)\n",
        "disect.append(48-sum(disect))\n",
        "print(\"disect:\",disect)"
      ],
      "metadata": {
        "colab": {
          "base_uri": "https://localhost:8080/"
        },
        "id": "zYa1Lbw4uRG9",
        "outputId": "86ba138f-7e77-44cf-fa7d-b34f285b2204"
      },
      "execution_count": null,
      "outputs": [
        {
          "output_type": "stream",
          "name": "stdout",
          "text": [
            "Lots: [[104, 104, 104, 104], [77, 77, 77, 77, 78], [78, 78, 78, 161], [161, 161, 161], [111, 111, 111, 111], [106, 106, 106, 106], [115, 115, 115, 115], [76, 76, 76, 76], [195, 195], [195, 195, 73], [73, 73, 73, 103], [103, 103, 103, 134, 134]]\n",
            "disect: [4, 5, 4, 3, 4, 4, 4, 4, 2, 3, 4, 5, 2]\n"
          ]
        }
      ]
    },
    {
      "cell_type": "code",
      "source": [
        "order = []\n",
        "for lsit in lots:\n",
        "  order.append(sum(lsit))\n",
        "order"
      ],
      "metadata": {
        "colab": {
          "base_uri": "https://localhost:8080/"
        },
        "id": "i4PSfzSmuRJ2",
        "outputId": "cec226c7-eff8-4acc-bede-164bd36c1932"
      },
      "execution_count": null,
      "outputs": [
        {
          "output_type": "execute_result",
          "data": {
            "text/plain": [
              "[416, 386, 395, 483, 444, 424, 460, 304, 390, 463, 322, 577]"
            ]
          },
          "metadata": {},
          "execution_count": 8
        }
      ]
    },
    {
      "cell_type": "code",
      "source": [
        "  counter = 0\n",
        "  total_cost = 0\n",
        "  for lot in lots:\n",
        "    cost = 0\n",
        "    if sum(lot)>300:\n",
        "      holding_costpw=holding_costpw*(0.7)                     #30% Discount\n",
        "    if sum(lot)>400:\n",
        "      holding_costpw=holding_costpw*(0.6)                     #40% Discount\n",
        "    if sum(lot)>500:\n",
        "      holding_costpw=holding_costpw*(1-0.5)                   #50% Discount\n",
        "    total_cost += setup_costpw[counter]\n",
        "    for item in lot:\n",
        "      counter+=1\n",
        "      total_cost += (cost*holding_costpw*item)\n",
        "      cost+=1"
      ],
      "metadata": {
        "id": "x-B4_dWLuRSy"
      },
      "execution_count": null,
      "outputs": []
    },
    {
      "cell_type": "code",
      "source": [
        "total_cost"
      ],
      "metadata": {
        "id": "1C9aqs-yuRVy",
        "colab": {
          "base_uri": "https://localhost:8080/"
        },
        "outputId": "8770fa32-6b5f-4f68-b1d5-45f79a5c8356"
      },
      "execution_count": null,
      "outputs": [
        {
          "output_type": "execute_result",
          "data": {
            "text/plain": [
              "16502.67782140869"
            ]
          },
          "metadata": {},
          "execution_count": 10
        }
      ]
    },
    {
      "cell_type": "code",
      "source": [],
      "metadata": {
        "id": "i4_TG8bpuRbV"
      },
      "execution_count": null,
      "outputs": []
    },
    {
      "cell_type": "code",
      "source": [],
      "metadata": {
        "id": "YwO4g18guReJ"
      },
      "execution_count": null,
      "outputs": []
    }
  ]
}